{
 "cells": [
  {
   "cell_type": "code",
   "execution_count": 1,
   "metadata": {},
   "outputs": [],
   "source": [
    "\n",
    "from scipy import stats\n",
    "\n",
    "import matplotlib.pyplot as plt\n",
    "import numpy as np\n",
    "import numpy.random as rd\n",
    "\n",
    "import pandas as pd \n",
    "\n",
    "from tqdm import tqdm\n",
    "import math\n",
    "\n",
    "\n",
    "from scipy.stats import norm\n",
    "from scipy.stats import multivariate_normal"
   ]
  },
  {
   "cell_type": "code",
   "execution_count": 2,
   "metadata": {},
   "outputs": [],
   "source": [
    "class HMC():\n",
    "    def __init__(self):\n",
    "        pass\n",
    "\n",
    "\n",
    "        \n",
    "    def _momentum(self, p):\n",
    "        \"\"\"\n",
    "        運動エネルギーは 正規乱数のlog(= -0.5 * p**2)にマイナスをくっつけたもの\n",
    "        \"\"\"\n",
    "        return 0.5 * np.sum(p**2)\n",
    "\n",
    "    def _hamiltonian(self,x,p):\n",
    "        return self._h(x) + self._momentum(p)\n",
    "    \n",
    "    def _h(self,x):\n",
    "        \"\"\"\n",
    "        こいつがポテンシャルエネルギー的なもの。\n",
    "\n",
    "        確率密度のlogをとり、マイナスをつける。関係のあるものだけにする\n",
    "        \"\"\"\n",
    "        \n",
    "        # 分布\n",
    "        # np.exp(-1/ (2 * 4 **2) *(4- 10 *x- y**2)**2 - x**2/(2*5**2)-y**2/(2*5**2))\n",
    "\n",
    "\n",
    "        _x,_y = x\n",
    "        \n",
    "        return (629 *_x**2)/200 + (5 *_x* _y**2)/8 - (5 *_x)/2 + _y**4/32 - (23 *_y**2)/100 + 1/2\n",
    "\n",
    "    \n",
    "    def _delta_h(self,x):\n",
    "        \n",
    "        _x,_y = x\n",
    "        # _xに関する微分\n",
    "        \n",
    "\n",
    "        _h_x = 1/200 *(1258 *_x + 125 *(_y**2 - 4))\n",
    "\n",
    "        # _yに関する微分\n",
    "\n",
    "        _h_y = (5 *_x *_y)/4 + (_y**2/8 - 23/50)* _y\n",
    "\n",
    "\n",
    "        return  np.array(_h_x,_h_y)\n",
    "\n",
    "\n",
    "    def _LeapFrog(self, x,p, eta, L, stlide=1):\n",
    "        for _ in range(L):\n",
    "            p = p - 0.5*eta* self._delta_h(x)\n",
    "            x = x + eta * p\n",
    "            p = p - 0.5*eta* self._delta_h(x)\n",
    "        return x,p\n",
    "    \n",
    "    def _sampler(self,T,L,eta):\n",
    "        \n",
    "        \n",
    "        x = rd.normal(loc=0,scale=1,size =2)\n",
    "        p = rd.normal(loc=0,scale=1,size =2)\n",
    "        prev_hamiltonian = self._hamiltonian(x,p)\n",
    "        sim_result = [[x,p,prev_hamiltonian, True]]\n",
    "        \n",
    "        sample_1 = []\n",
    "        sample_2 = []\n",
    "        for t in range(T):\n",
    "            prev_x,prev_p,prev_hamiltonian = x,p,self._hamiltonian(x,p)\n",
    "            x,p = self._LeapFrog(x,p,eta,L= L)\n",
    "            H = self._hamiltonian(x,p)\n",
    "            # 本当は、np.exp(-H)/np.exp(-prev_hamiltonian)\n",
    "            # 上を展開して整理した\n",
    "            r = np.exp(prev_hamiltonian-H)\n",
    "            if  rd.uniform() < r:\n",
    "                sample_1.append(x[0])\n",
    "                sample_2.append(x[1])\n",
    "                sim_result.append([ x,p,self._hamiltonian(x,p), True])\n",
    "            else:\n",
    "                sim_result.append([x,p,self._hamiltonian(x,p), False])\n",
    "                x = prev_x\n",
    "                sample_1.append(x[0])\n",
    "                sample_2.append(x[1])\n",
    "            p = rd.normal(loc=0,scale=1,size =2) \n",
    "        print(\"Accept_rate: {:.6f}\".format(sum(np.array(sim_result)[:,3])/len(np.array(sim_result)[:,3])))\n",
    "        \n",
    "        return sample_1, sample_2\n",
    "\n",
    "    def Sampling(self,T=10000,L = 100,eta = 0.01,chain =2,burn_in_rate = 0.1):\n",
    "        return self._sampler(T,L,eta)"
   ]
  },
  {
   "cell_type": "code",
   "execution_count": null,
   "metadata": {},
   "outputs": [],
   "source": []
  },
  {
   "cell_type": "code",
   "execution_count": 3,
   "metadata": {},
   "outputs": [],
   "source": [
    "eta = 0.01\n",
    "\n",
    "L = 100"
   ]
  },
  {
   "cell_type": "code",
   "execution_count": null,
   "metadata": {},
   "outputs": [],
   "source": [
    "\n",
    "\n"
   ]
  },
  {
   "cell_type": "code",
   "execution_count": null,
   "metadata": {},
   "outputs": [],
   "source": []
  },
  {
   "cell_type": "code",
   "execution_count": 4,
   "metadata": {},
   "outputs": [],
   "source": [
    "instance = HMC()"
   ]
  },
  {
   "cell_type": "code",
   "execution_count": 5,
   "metadata": {},
   "outputs": [
    {
     "name": "stdout",
     "output_type": "stream",
     "text": [
      "Accept_rate: 0.544446\n"
     ]
    }
   ],
   "source": [
    "result1,result2 = instance.Sampling(T=10000,L = L,eta = eta)"
   ]
  },
  {
   "cell_type": "code",
   "execution_count": null,
   "metadata": {},
   "outputs": [],
   "source": []
  },
  {
   "cell_type": "code",
   "execution_count": 6,
   "metadata": {},
   "outputs": [
    {
     "data": {
      "text/plain": [
       "(array([   4.,    0.,    0.,    1.,    1.,    2.,    1.,    3.,    3.,\n",
       "           0.,    7.,    7.,    5.,   11.,    7.,   10.,    7.,   17.,\n",
       "           9.,   28.,   23.,   18.,   17.,   16.,   15.,   22.,   11.,\n",
       "          16.,   26.,   41.,   39.,   23.,   57.,   33.,   65.,   53.,\n",
       "          58.,   77.,   66.,   81.,   71.,   52.,   44.,   59.,   85.,\n",
       "          66.,   70.,  114.,   78.,  137.,  140.,  211.,  190.,  141.,\n",
       "         195.,  245.,  239.,  219.,  235.,  310.,  393.,  378.,  394.,\n",
       "         575.,  684.,  628.,  658.,  527.,  497.,  490.,  358.,  234.,\n",
       "         141.,  103.,   33.,    7.,   12.,    4.,    0.,    3.]),\n",
       " array([-8.61111911, -8.4802025 , -8.34928588, -8.21836927, -8.08745266,\n",
       "        -7.95653605, -7.82561944, -7.69470283, -7.56378622, -7.4328696 ,\n",
       "        -7.30195299, -7.17103638, -7.04011977, -6.90920316, -6.77828655,\n",
       "        -6.64736994, -6.51645333, -6.38553671, -6.2546201 , -6.12370349,\n",
       "        -5.99278688, -5.86187027, -5.73095366, -5.60003705, -5.46912043,\n",
       "        -5.33820382, -5.20728721, -5.0763706 , -4.94545399, -4.81453738,\n",
       "        -4.68362077, -4.55270415, -4.42178754, -4.29087093, -4.15995432,\n",
       "        -4.02903771, -3.8981211 , -3.76720449, -3.63628788, -3.50537126,\n",
       "        -3.37445465, -3.24353804, -3.11262143, -2.98170482, -2.85078821,\n",
       "        -2.7198716 , -2.58895498, -2.45803837, -2.32712176, -2.19620515,\n",
       "        -2.06528854, -1.93437193, -1.80345532, -1.6725387 , -1.54162209,\n",
       "        -1.41070548, -1.27978887, -1.14887226, -1.01795565, -0.88703904,\n",
       "        -0.75612243, -0.62520581, -0.4942892 , -0.36337259, -0.23245598,\n",
       "        -0.10153937,  0.02937724,  0.16029385,  0.29121047,  0.42212708,\n",
       "         0.55304369,  0.6839603 ,  0.81487691,  0.94579352,  1.07671013,\n",
       "         1.20762674,  1.33854336,  1.46945997,  1.60037658,  1.73129319,\n",
       "         1.8622098 ]),\n",
       " <a list of 80 Patch objects>)"
      ]
     },
     "execution_count": 6,
     "metadata": {},
     "output_type": "execute_result"
    },
    {
     "data": {
      "image/png": "[encoded data removed]",
      "text/plain": [
       "<Figure size 432x288 with 1 Axes>"
      ]
     },
     "metadata": {
      "needs_background": "light"
     },
     "output_type": "display_data"
    }
   ],
   "source": [
    "plt.hist(np.array(result1[100:]),bins= 80)"
   ]
  },
  {
   "cell_type": "code",
   "execution_count": 7,
   "metadata": {},
   "outputs": [
    {
     "data": {
      "text/plain": [
       "(array([  21.,   38.,   40.,   43.,   83.,   41.,   66.,  139.,  154.,\n",
       "         251.,  230.,  161.,  318.,  400.,  274.,  283.,  389.,  300.,\n",
       "         297.,  327.,  340.,  279.,  265.,  308.,  309.,  326.,  336.,\n",
       "         311.,  374.,  302.,  294.,  250.,  293.,  245.,  235.,  200.,\n",
       "         203.,  182.,  170.,  148.,  166.,  113.,  118.,   80.,   67.,\n",
       "          52.,   47.,   19.,    7.,    6.]),\n",
       " array([-7.66817988, -7.32333456, -6.97848924, -6.63364392, -6.2887986 ,\n",
       "        -5.94395328, -5.59910795, -5.25426263, -4.90941731, -4.56457199,\n",
       "        -4.21972667, -3.87488135, -3.53003603, -3.18519071, -2.84034539,\n",
       "        -2.49550007, -2.15065475, -1.80580943, -1.46096411, -1.11611879,\n",
       "        -0.77127347, -0.42642815, -0.08158283,  0.26326249,  0.60810782,\n",
       "         0.95295314,  1.29779846,  1.64264378,  1.9874891 ,  2.33233442,\n",
       "         2.67717974,  3.02202506,  3.36687038,  3.7117157 ,  4.05656102,\n",
       "         4.40140634,  4.74625166,  5.09109698,  5.4359423 ,  5.78078762,\n",
       "         6.12563294,  6.47047826,  6.81532359,  7.16016891,  7.50501423,\n",
       "         7.84985955,  8.19470487,  8.53955019,  8.88439551,  9.22924083,\n",
       "         9.57408615]),\n",
       " <a list of 50 Patch objects>)"
      ]
     },
     "execution_count": 7,
     "metadata": {},
     "output_type": "execute_result"
    },
    {
     "data": {
      "image/png": "[encoded data removed]",
      "text/plain": [
       "<Figure size 432x288 with 1 Axes>"
      ]
     },
     "metadata": {
      "needs_background": "light"
     },
     "output_type": "display_data"
    }
   ],
   "source": [
    "plt.hist(np.array(result2[100:]),bins= 50)"
   ]
  },
  {
   "cell_type": "code",
   "execution_count": 8,
   "metadata": {},
   "outputs": [
    {
     "data": {
      "text/plain": [
       "array([-0.15909209,  0.59555123, -0.33088623, ...,  0.70438747,\n",
       "        0.70438747,  0.70438747])"
      ]
     },
     "execution_count": 8,
     "metadata": {},
     "output_type": "execute_result"
    }
   ],
   "source": [
    "np.array(result1[100:])"
   ]
  },
  {
   "cell_type": "code",
   "execution_count": 9,
   "metadata": {},
   "outputs": [
    {
     "data": {
      "text/plain": [
       "array([-0.41135561,  2.17760966,  0.68088845, ...,  0.86078069,\n",
       "        0.86078069,  0.86078069])"
      ]
     },
     "execution_count": 9,
     "metadata": {},
     "output_type": "execute_result"
    }
   ],
   "source": [
    "np.array(result2[100:])"
   ]
  },
  {
   "cell_type": "code",
   "execution_count": null,
   "metadata": {},
   "outputs": [],
   "source": []
  },
  {
   "cell_type": "code",
   "execution_count": 10,
   "metadata": {},
   "outputs": [
    {
     "data": {
      "image/png": "[encoded data removed]",
      "text/plain": [
       "<Figure size 432x288 with 1 Axes>"
      ]
     },
     "metadata": {
      "needs_background": "light"
     },
     "output_type": "display_data"
    }
   ],
   "source": [
    "plt.figure()\n",
    "ax = plt.gca()\n",
    "\n",
    "ax.scatter(result1[::30],result2[::30], alpha = 0.2)\n",
    "\n",
    "# Draw the plot\n",
    "plt.savefig('banana.png') \n",
    "plt.draw()"
   ]
  },
  {
   "cell_type": "code",
   "execution_count": 22,
   "metadata": {},
   "outputs": [
    {
     "data": {
      "image/png": "[encoded data removed]",
      "text/plain": [
       "<Figure size 432x288 with 1 Axes>"
      ]
     },
     "metadata": {
      "needs_background": "light"
     },
     "output_type": "display_data"
    }
   ],
   "source": [
    "plt.figure()\n",
    "ax = plt.gca()\n",
    "\n",
    "ax.plot(result1[::40],result2[::40], '-x',alpha = 0.2)\n",
    "\n",
    "# Draw the plot\n",
    "plt.draw()"
   ]
  },
  {
   "cell_type": "code",
   "execution_count": null,
   "metadata": {},
   "outputs": [],
   "source": []
  },
  {
   "cell_type": "code",
   "execution_count": null,
   "metadata": {},
   "outputs": [],
   "source": []
  },
  {
   "cell_type": "code",
   "execution_count": null,
   "metadata": {},
   "outputs": [],
   "source": []
  }
 ],
 "metadata": {
  "kernelspec": {
   "display_name": "Python 3",
   "language": "python",
   "name": "python3"
  },
  "language_info": {
   "codemirror_mode": {
    "name": "ipython",
    "version": 3
   },
   "file_extension": ".py",
   "mimetype": "text/x-python",
   "name": "python",
   "nbconvert_exporter": "python",
   "pygments_lexer": "ipython3",
   "version": "3.6.8"
  },
  "toc": {
   "colors": {
    "hover_highlight": "#DAA520",
    "navigate_num": "#000000",
    "navigate_text": "#333333",
    "running_highlight": "#FF0000",
    "selected_highlight": "#FFD700",
    "sidebar_border": "#EEEEEE",
    "wrapper_background": "#FFFFFF"
   },
   "moveMenuLeft": true,
   "nav_menu": {
    "height": "12px",
    "width": "252px"
   },
   "navigate_menu": true,
   "number_sections": true,
   "sideBar": true,
   "threshold": 4,
   "toc_cell": false,
   "toc_section_display": "block",
   "toc_window_display": false,
   "widenNotebook": false
  }
 },
 "nbformat": 4,
 "nbformat_minor": 2
}
