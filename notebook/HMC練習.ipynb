{
 "cells": [
  {
   "cell_type": "markdown",
   "metadata": {},
   "source": [
    "# 乱数の生成"
   ]
  },
  {
   "cell_type": "code",
   "execution_count": null,
   "metadata": {},
   "outputs": [],
   "source": [
    "# データの決定\n",
    "\n",
    "N=100\n",
    "theta=0.3"
   ]
  },
  {
   "cell_type": "code",
   "execution_count": null,
   "metadata": {},
   "outputs": [],
   "source": [
    "from scipy.stats import bernoulli\n",
    "from scipy import stats\n",
    "\n",
    "import numpy as np\n",
    "\n",
    "#乱数のseedを設定\n",
    "np.random.seed(1234)\n",
    "\n",
    "#ベルヌーイ分布（歪んだコインのコイントス）\n",
    "data = bernoulli.rvs(theta, size=N)\n",
    "print(data)\n"
   ]
  },
  {
   "cell_type": "code",
   "execution_count": null,
   "metadata": {},
   "outputs": [],
   "source": [
    "import sys\n",
    "\n",
    "print(sys.version)\n",
    "# 3.7.0 (default, Jun 29 2018, 20:13:13) \n",
    "# [Clang 9.1.0 (clang-902.0.39.2)]\n",
    "\n",
    "print(type(sys.version))\n",
    "# <class 'str'>"
   ]
  },
  {
   "cell_type": "markdown",
   "metadata": {},
   "source": [
    "# pystanによる練習"
   ]
  },
  {
   "cell_type": "code",
   "execution_count": 1,
   "metadata": {},
   "outputs": [],
   "source": [
    "\n",
    "# import matplotlib.pyplot as plt\n",
    "import pystan\n",
    "\n",
    " \n",
    "\n",
    "#stanコード\n",
    "stan_model = \"\"\"\n",
    "data{\n",
    "  int<lower=0> N; // sample size\n",
    "  int<lower=0, upper=1> y[N]; // 0 or 1\n",
    "}\n",
    "parameters{\n",
    "  real<lower=0, upper=1> theta; // 1が出る確率\n",
    "}\n",
    "model{\n",
    "  theta ~ uniform(0,1); // 無情報事前分布\n",
    "  for(n in 1:N){\n",
    "    y[n] ~ bernoulli(theta); // コイン投げモデル\n",
    "  }\n",
    "}\"\"\"\n",
    " \n",
    "#stanコードのコンパイル\n",
    "#sm = pystan.StanModel(model_code=stan_model,verbose=True)\n",
    " \n",
    "#データの引き渡し\n",
    "#stan_data = {\"N\":N, \"y\":data.tolist()}\n",
    " \n",
    "#Let's stan!\n",
    "#fit = sm.sampling(data = stan_data, iter=2000, warmup=500, chains = 4, n_jobs=-1, seed=123)\n",
    " \n",
    "#結果\n",
    "#fit\n"
   ]
  },
  {
   "cell_type": "code",
   "execution_count": null,
   "metadata": {},
   "outputs": [],
   "source": []
  },
  {
   "cell_type": "code",
   "execution_count": null,
   "metadata": {},
   "outputs": [],
   "source": []
  },
  {
   "cell_type": "markdown",
   "metadata": {},
   "source": [
    "# 高さの定義\n",
    "\n",
    "これは、事後分布のlogを取った関数となる\n",
    "\n",
    "あ、でもこれ、大丈夫か？ \n",
    "\n",
    "だって、事後分布計算できなくね。。"
   ]
  },
  {
   "cell_type": "code",
   "execution_count": 3,
   "metadata": {},
   "outputs": [],
   "source": [
    "def h(theta):\n",
    "    # todo\n",
    "    return 1\n",
    "    "
   ]
  },
  {
   "cell_type": "markdown",
   "metadata": {
    "collapsed": true
   },
   "source": [
    "# ハミルトニアンの定義"
   ]
  },
  {
   "cell_type": "code",
   "execution_count": 6,
   "metadata": {},
   "outputs": [],
   "source": [
    "\n",
    "\n",
    "def hamiltonian(theta, p):\n",
    "    return h(theta) + 1/2 * p**2\n",
    "    \n",
    "    "
   ]
  },
  {
   "cell_type": "code",
   "execution_count": 7,
   "metadata": {},
   "outputs": [
    {
     "data": {
      "text/plain": [
       "3.0"
      ]
     },
     "execution_count": 7,
     "metadata": {},
     "output_type": "execute_result"
    }
   ],
   "source": [
    "hamiltonian(1,2)"
   ]
  },
  {
   "cell_type": "markdown",
   "metadata": {},
   "source": [
    "# リープフロッグ法の定義"
   ]
  },
  {
   "cell_type": "code",
   "execution_count": null,
   "metadata": {
    "collapsed": true
   },
   "outputs": [],
   "source": []
  }
 ],
 "metadata": {
  "kernelspec": {
   "display_name": "stan3.6",
   "language": "python",
   "name": "stan3.6"
  },
  "language_info": {
   "codemirror_mode": {
    "name": "ipython",
    "version": 3
   },
   "file_extension": ".py",
   "mimetype": "text/x-python",
   "name": "python",
   "nbconvert_exporter": "python",
   "pygments_lexer": "ipython3",
   "version": "3.6.8"
  },
  "toc": {
   "colors": {
    "hover_highlight": "#DAA520",
    "navigate_num": "#000000",
    "navigate_text": "#333333",
    "running_highlight": "#FF0000",
    "selected_highlight": "#FFD700",
    "sidebar_border": "#EEEEEE",
    "wrapper_background": "#FFFFFF"
   },
   "moveMenuLeft": true,
   "nav_menu": {
    "height": "11px",
    "width": "252px"
   },
   "navigate_menu": true,
   "number_sections": true,
   "sideBar": true,
   "threshold": 4,
   "toc_cell": false,
   "toc_section_display": "block",
   "toc_window_display": false,
   "widenNotebook": false
  }
 },
 "nbformat": 4,
 "nbformat_minor": 2
}
