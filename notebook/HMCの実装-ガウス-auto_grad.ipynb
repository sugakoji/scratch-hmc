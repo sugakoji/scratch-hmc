{
 "cells": [
  {
   "cell_type": "code",
   "execution_count": null,
   "metadata": {},
   "outputs": [],
   "source": [
    "\n",
    "from scipy import stats\n",
    "\n",
    "import matplotlib.pyplot as plt\n",
    "import numpy as np\n",
    "\n",
    "import numpy.random as rd\n",
    "\n",
    "import pandas as pd \n",
    "\n",
    "from tqdm import tqdm\n",
    "import math\n",
    "\n",
    "import autograd.numpy as np # Numpy用の薄いラッパ\n",
    "from autograd import grad"
   ]
  },
  {
   "cell_type": "code",
   "execution_count": null,
   "metadata": {},
   "outputs": [],
   "source": [
    "# parameter\n",
    "mus = 5\n",
    "sigmas = 1"
   ]
  },
  {
   "cell_type": "code",
   "execution_count": null,
   "metadata": {},
   "outputs": [],
   "source": [
    "# うまく行った場合の正規分布の乱数\n",
    "\n",
    "arr = np.random.normal(mus,sigmas, 10)\n",
    "print(arr)"
   ]
  },
  {
   "cell_type": "markdown",
   "metadata": {},
   "source": [
    "# 確率分布の定義"
   ]
  },
  {
   "cell_type": "code",
   "execution_count": null,
   "metadata": {},
   "outputs": [],
   "source": []
  },
  {
   "cell_type": "code",
   "execution_count": null,
   "metadata": {},
   "outputs": [],
   "source": []
  },
  {
   "cell_type": "code",
   "execution_count": null,
   "metadata": {},
   "outputs": [],
   "source": [
    "# 遅いバージョン\n",
    "\"\"\"\n",
    "def h(x, mu, sigma):\n",
    "    return -1 * np.log(stats.norm.pdf(x=x, loc=mu, scale=sigma) )\n",
    "    \n",
    "\"\"\""
   ]
  },
  {
   "cell_type": "code",
   "execution_count": null,
   "metadata": {},
   "outputs": [],
   "source": [
    "# 遅いバージョン\n",
    "\"\"\"\n",
    "def delta_h(x, mu, sigma):\n",
    "    return  -1*stats.norm.pdf(x=x, loc=mu, scale=sigma)*(x-mus)/ (sigma )\n",
    "\"\"\""
   ]
  },
  {
   "cell_type": "code",
   "execution_count": null,
   "metadata": {},
   "outputs": [],
   "source": [
    "import autograd.numpy as np  # Thinly-wrapped numpy\n",
    "from autograd import grad    # The only autograd function you may ever need\n",
    "\n",
    "def func(x,y):   \n",
    "    # Define a function\n",
    "    return x**2 + y*x\n",
    "\n",
    "grad_tanh = grad(func)\n",
    "             \n",
    "grad_tanh(1.0,1)"
   ]
  },
  {
   "cell_type": "code",
   "execution_count": null,
   "metadata": {},
   "outputs": [],
   "source": []
  },
  {
   "cell_type": "code",
   "execution_count": null,
   "metadata": {},
   "outputs": [],
   "source": []
  },
  {
   "cell_type": "code",
   "execution_count": null,
   "metadata": {},
   "outputs": [],
   "source": [
    "def h(x, mu, sigma):\n",
    "    return (x-mu)**2/2 * sigma"
   ]
  },
  {
   "cell_type": "code",
   "execution_count": null,
   "metadata": {},
   "outputs": [],
   "source": [
    "def grad_func(h):\n",
    "    return grad(h)"
   ]
  },
  {
   "cell_type": "code",
   "execution_count": null,
   "metadata": {},
   "outputs": [],
   "source": [
    "def delta_h(x, mu, sigma):\n",
    "    grad_func = grad(h)\n",
    "    return grad_func(float(x), float(mu), float(sigma))\n",
    "    "
   ]
  },
  {
   "cell_type": "code",
   "execution_count": null,
   "metadata": {},
   "outputs": [],
   "source": []
  },
  {
   "cell_type": "code",
   "execution_count": null,
   "metadata": {},
   "outputs": [],
   "source": [
    "def hamiltonian(x,mu, sigma,p):\n",
    "    return h(x, mu, sigma) + 0.5 * p**2"
   ]
  },
  {
   "cell_type": "code",
   "execution_count": null,
   "metadata": {},
   "outputs": [],
   "source": [
    "def leap_flog_step1(p, eta,x,mu, sigma):\n",
    "    return p - 0.5*eta* delta_h(x, mu, sigma)\n",
    "\n",
    "def leap_flog_step2(p, x, eta):\n",
    "    return x + eta * p\n"
   ]
  },
  {
   "cell_type": "code",
   "execution_count": null,
   "metadata": {},
   "outputs": [],
   "source": []
  },
  {
   "cell_type": "code",
   "execution_count": null,
   "metadata": {},
   "outputs": [],
   "source": [
    "def move_one_step(x,mu, sigma, p, eta, L=100, stlide=1):\n",
    "    \"\"\"\n",
    "    リープフロッグ法でL回移動した１ステップを実行\n",
    "    \"\"\"\n",
    "    ret = []\n",
    "    ret.append([1, p, x, hamiltonian(x,mu, sigma,p)])\n",
    "    for _ in range(L):\n",
    "        p = leap_flog_step1(p, eta,x,mu, sigma)\n",
    "        x = leap_flog_step2(p, x, eta)\n",
    "        p = leap_flog_step1(p, eta,x,mu, sigma)\n",
    "        ret.append([1, p, x, hamiltonian(x,mu, sigma,p)])\n",
    "    return ret[::stlide]"
   ]
  },
  {
   "cell_type": "code",
   "execution_count": null,
   "metadata": {},
   "outputs": [],
   "source": [
    "\n",
    "# initial param\n",
    "x = 3\n",
    "\n",
    "p = 1\n",
    "eta = 0.01\n",
    "L = 100\n",
    "\n",
    "result = move_one_step(x,mus, sigmas, p, eta, L, stlide=1)"
   ]
  },
  {
   "cell_type": "code",
   "execution_count": null,
   "metadata": {},
   "outputs": [],
   "source": [
    "result = np.array(result)\n",
    "#HTML(pd.DataFrame(result, columns=\"p,x,hamiltonian\".split(\",\")).to_html())\n",
    "# type=1はリープフロッグ法による遷移を表す\n",
    "pd.DataFrame(result, columns=\"type,p,x,hamiltonian\".split(\",\"))"
   ]
  },
  {
   "cell_type": "code",
   "execution_count": null,
   "metadata": {},
   "outputs": [],
   "source": []
  },
  {
   "cell_type": "code",
   "execution_count": null,
   "metadata": {
    "scrolled": false
   },
   "outputs": [],
   "source": [
    "# HMC simulation\n",
    "rd.seed(71)\n",
    "scale_p = 1\n",
    "\n",
    "# initial param\n",
    "x = 2.5\n",
    "p = rd.normal(loc=0,scale=scale_p)\n",
    "\n",
    "T = 5000\n",
    "\n",
    "\n",
    "sim_result = []\n",
    "prev_hamiltonian = hamiltonian(x,mus, sigmas,p)\n",
    "sim_result.append([ p, x, prev_hamiltonian, True])\n",
    "for t in tqdm(range(T)):\n",
    "    prev_p = p\n",
    "    prev_x = x\n",
    "    prev_hamiltonian = hamiltonian(x,mus, sigmas,p)\n",
    "    for i in range(L):\n",
    "        p = leap_flog_step1(p, eta,x,mus, sigmas)\n",
    "        x = leap_flog_step2(p, x, eta)\n",
    "        p = leap_flog_step1(p, eta,x,mus, sigmas)\n",
    "        \n",
    "\n",
    "    H = hamiltonian(x,mus, sigmas,p)\n",
    "    r = np.exp(prev_hamiltonian-H)\n",
    "    if  r > 1:\n",
    "        sim_result.append([ p, x, hamiltonian(x,mus, sigmas,p), True])\n",
    "    elif r > 0 and rd.uniform() < r:\n",
    "        sim_result.append([ p, x,hamiltonian(x,mus, sigmas,p), True])\n",
    "    else:\n",
    "\n",
    "        sim_result.append([ p, x, hamiltonian(x,mus, sigmas,p), False])\n",
    "        x = prev_x\n",
    "    \n",
    "    p = rd.normal(loc=0,scale=scale_p)\n",
    "    \n",
    "sim_result = np.array(sim_result)\n",
    "df = pd.DataFrame(sim_result, columns=\"p,x,hamiltonian,accept\".split(\",\"))"
   ]
  },
  {
   "cell_type": "code",
   "execution_count": null,
   "metadata": {},
   "outputs": [],
   "source": [
    "sum(df[\"accept\"])/df[\"accept\"].shape[0]"
   ]
  },
  {
   "cell_type": "code",
   "execution_count": null,
   "metadata": {},
   "outputs": [],
   "source": [
    "df"
   ]
  },
  {
   "cell_type": "code",
   "execution_count": null,
   "metadata": {
    "scrolled": false
   },
   "outputs": [],
   "source": [
    "burn_in = int(T*0.1)\n",
    "w = 0.05\n",
    "n = len(sim_result[burn_in:])\n",
    "\n",
    "\n",
    "plt.figure(figsize=(14,8))\n",
    "plt.hist(sim_result[burn_in:,1])\n"
   ]
  },
  {
   "cell_type": "code",
   "execution_count": null,
   "metadata": {},
   "outputs": [],
   "source": []
  },
  {
   "cell_type": "code",
   "execution_count": null,
   "metadata": {},
   "outputs": [],
   "source": []
  },
  {
   "cell_type": "code",
   "execution_count": null,
   "metadata": {},
   "outputs": [],
   "source": []
  }
 ],
 "metadata": {
  "kernelspec": {
   "display_name": "Python 3",
   "language": "python",
   "name": "python3"
  },
  "language_info": {
   "codemirror_mode": {
    "name": "ipython",
    "version": 3
   },
   "file_extension": ".py",
   "mimetype": "text/x-python",
   "name": "python",
   "nbconvert_exporter": "python",
   "pygments_lexer": "ipython3",
   "version": "3.6.8"
  },
  "toc": {
   "colors": {
    "hover_highlight": "#DAA520",
    "navigate_num": "#000000",
    "navigate_text": "#333333",
    "running_highlight": "#FF0000",
    "selected_highlight": "#FFD700",
    "sidebar_border": "#EEEEEE",
    "wrapper_background": "#FFFFFF"
   },
   "moveMenuLeft": true,
   "nav_menu": {
    "height": "29.7569px",
    "width": "251.979px"
   },
   "navigate_menu": true,
   "number_sections": true,
   "sideBar": true,
   "threshold": 4,
   "toc_cell": false,
   "toc_section_display": "block",
   "toc_window_display": false,
   "widenNotebook": false
  }
 },
 "nbformat": 4,
 "nbformat_minor": 2
}
